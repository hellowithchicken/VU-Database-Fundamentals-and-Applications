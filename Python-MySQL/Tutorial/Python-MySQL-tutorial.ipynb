{
 "cells": [
  {
   "cell_type": "markdown",
   "metadata": {
    "id": "GE-3ff-nC7Jd"
   },
   "source": [
    "# Database Fundamentals and Applications &ndash; Tutorial 5 &ndash; Part III"
   ]
  },
  {
   "cell_type": "markdown",
   "metadata": {},
   "source": [
    "In this part of the tutorial, you will use this Jupyter Notebook to connect to your MySQL Server from Python. In particular, you will establish a connection to the $\\texttt{world}$ database. You will use this connection to carry out several basic SQL queries, followed by using Python's pandas package, to provide some basic descriptive statistics."
   ]
  },
  {
   "cell_type": "markdown",
   "metadata": {},
   "source": [
    "## Getting started"
   ]
  },
  {
   "cell_type": "markdown",
   "metadata": {},
   "source": [
    "### Connect Python to MySQL"
   ]
  },
  {
   "cell_type": "markdown",
   "metadata": {},
   "source": [
    "Before Python can connect to your MySQL Server, you need to install the MySQL-Python connector. Run the code below to install this connector."
   ]
  },
  {
   "cell_type": "code",
   "execution_count": null,
   "metadata": {
    "colab": {
     "base_uri": "https://localhost:8080/"
    },
    "id": "6gbh4HKtC3Zu",
    "outputId": "e9ddec31-c10e-44ed-9187-2561c182790c"
   },
   "outputs": [],
   "source": [
    "# install mysql connector\n",
    "!pip install mysql-connector-python"
   ]
  },
  {
   "cell_type": "markdown",
   "metadata": {},
   "source": [
    "Please run the cell below to load all the necessary packages. "
   ]
  },
  {
   "cell_type": "code",
   "execution_count": null,
   "metadata": {
    "id": "gxftrR6GEMHU"
   },
   "outputs": [],
   "source": [
    "# import packages\n",
    "import mysql.connector\n",
    "import pandas as pd\n",
    "import scipy.stats as stats\n",
    "%matplotlib inline"
   ]
  },
  {
   "cell_type": "markdown",
   "metadata": {},
   "source": [
    "Use the code below to establish a connection to the $\\texttt{world}$ database on your local MySQL Server. **Do not forget to change the password!**"
   ]
  },
  {
   "cell_type": "code",
   "execution_count": null,
   "metadata": {
    "colab": {
     "base_uri": "https://localhost:8080/",
     "height": 545
    },
    "id": "wzcFUIDcEQAd",
    "outputId": "c71bc85c-b329-41c8-ff62-a67afbaa9bca"
   },
   "outputs": [],
   "source": [
    "# connect to Yelp\n",
    "connection = mysql.connector.connect(host = \"localhost\",\n",
    "                                     user = \"root\",\n",
    "                                     password = \"...\",\n",
    "                                     db = \"world\")"
   ]
  },
  {
   "cell_type": "markdown",
   "metadata": {},
   "source": [
    "**If you run into errors executing the code above, try restaring the kernel**: in the 'Kernel' menu, click 'Restart'. If this does not help, try installing the newest MySQL-Python connector from https://dev.mysql.com/downloads/connector/python/8.0.html. Do not forget to restart the kernel after installation."
   ]
  },
  {
   "cell_type": "markdown",
   "metadata": {},
   "source": [
    "### Testing the connection"
   ]
  },
  {
   "cell_type": "markdown",
   "metadata": {},
   "source": [
    "In Part III of the tutorial, you will primarily use Python's Pandas package to extract, clean, and visualise the data. The code below demostrates how to execute a SQL statement using Pandas, and extract a DataFrame."
   ]
  },
  {
   "cell_type": "code",
   "execution_count": null,
   "metadata": {
    "id": "YIx5NYLeEsQa",
    "scrolled": true
   },
   "outputs": [],
   "source": [
    "# select first 20 rows from the country table\n",
    "data = pd.read_sql_query(\"SELECT * \\\n",
    "                          FROM country \\\n",
    "                          LIMIT 20\",\n",
    "                         connection)\n",
    "# let's inspect the data\n",
    "data.head()"
   ]
  },
  {
   "cell_type": "markdown",
   "metadata": {},
   "source": [
    "## Questions"
   ]
  },
  {
   "cell_type": "markdown",
   "metadata": {},
   "source": [
    "### Basic counts"
   ]
  },
  {
   "cell_type": "markdown",
   "metadata": {},
   "source": [
    "How many rows are there in the tables country, city, and countrylanguage?"
   ]
  },
  {
   "cell_type": "code",
   "execution_count": null,
   "metadata": {},
   "outputs": [],
   "source": [
    "# count the number of rows in country\n",
    "data = pd.read_sql_query(\"...\", connection)\n",
    "print(\"Number of rows in country = \" + str(data.iloc[0,0]))\n",
    "# count the number of rows in city\n",
    "data = ...\n",
    "print(\"Number of rows in city = \" + str(data.iloc[0,0]))\n",
    "# count the number of rows in city\n",
    "...\n",
    "print(\"Number of rows in countrylanguage = \" + str(data.iloc[0,0]))"
   ]
  },
  {
   "cell_type": "markdown",
   "metadata": {
    "id": "0uEGigFkC6UP"
   },
   "source": [
    "### Number of cities per country"
   ]
  },
  {
   "cell_type": "markdown",
   "metadata": {},
   "source": [
    "Find all countries that have at least 50 cities in the city tables. For those countries, report the name of the country as countryName, and report the number of cities in that country as numCities. Create a horizontal bar plot showing the number of cities per country in the result of your query."
   ]
  },
  {
   "cell_type": "code",
   "execution_count": null,
   "metadata": {},
   "outputs": [],
   "source": [
    "data = pd.read_sql_query(\"...\",\n",
    "                         connection)\n",
    "# create horizontal bar plot\n",
    "data.plot.barh(x='...', y='...')"
   ]
  },
  {
   "cell_type": "markdown",
   "metadata": {},
   "source": [
    "### City names that appear in more than one country"
   ]
  },
  {
   "cell_type": "markdown",
   "metadata": {},
   "source": [
    "Write and execute a query showing all city names that appear in more than two countries. Also report in how many distinct countries that city name appears. Return the name as cityName and the count as numCountries."
   ]
  },
  {
   "cell_type": "code",
   "execution_count": null,
   "metadata": {},
   "outputs": [],
   "source": [
    "data = pd.read_sql_query(\"...\",\n",
    "                         connection)\n",
    "# let's see the result\n",
    "print(data)"
   ]
  },
  {
   "cell_type": "markdown",
   "metadata": {
    "id": "0uEGigFkC6UP"
   },
   "source": [
    "### Number of languages per country"
   ]
  },
  {
   "cell_type": "markdown",
   "metadata": {},
   "source": [
    "For each country, find out how many languages are spoken in that country according to the countrylanguage table. For each country, return countryName as well as the count of the number of languages. Call this count numLanguages."
   ]
  },
  {
   "cell_type": "code",
   "execution_count": null,
   "metadata": {},
   "outputs": [],
   "source": [
    "data = pd.read_sql_query(\"...\",\n",
    "                         connection)\n",
    "# print the first few rows\n",
    "data.head()"
   ]
  },
  {
   "cell_type": "markdown",
   "metadata": {},
   "source": [
    "Now, plot a histogram of numLanguages, and perform a Jarque-Bera test on the normality of numLanguages. What do you conclude? Is the number of languages per country normally distributed?"
   ]
  },
  {
   "cell_type": "code",
   "execution_count": null,
   "metadata": {},
   "outputs": [],
   "source": [
    "# plot the histogram of the number of languages per country\n",
    "data.plot.hist(y='...')\n",
    "# perform a Jarque-Bera test of normality (null hypothesis)\n",
    "stats.jarque_bera(...)"
   ]
  },
  {
   "cell_type": "markdown",
   "metadata": {},
   "source": [
    "#### Conclusion:\n",
    "*Your conclusions go here.*"
   ]
  },
  {
   "cell_type": "markdown",
   "metadata": {},
   "source": [
    "### Number of official and unofficial languages per country"
   ]
  },
  {
   "cell_type": "markdown",
   "metadata": {},
   "source": [
    "For each country, again return countryName and numLanguages. But now, in addition, return the number of languages that are official (name this field numLangOff) as well as the number of languages that are not official (name this field numLangUnoff)."
   ]
  },
  {
   "cell_type": "code",
   "execution_count": null,
   "metadata": {},
   "outputs": [],
   "source": [
    "data = pd.read_sql_query(\"SELECT country.name AS countryName, \\\n",
    "                          COUNT(*) AS numLanguages, \\\n",
    "                          CAST( \\\n",
    "                              SUM( \\\n",
    "                                  CASE \\\n",
    "                                      WHEN isOfficial = 'T' THEN 1 \\\n",
    "                                      ELSE 0 \\\n",
    "                                  END \\\n",
    "                              ) AS SIGNED \\\n",
    "                          ) AS numLangOff, \\\n",
    "                          CAST( \\\n",
    "                              ... \\\n",
    "                              ) AS SIGNED \\\n",
    "                          ) AS numLangUnoff \\\n",
    "                          FROM ..., ... \\\n",
    "                          WHERE ....code = ....CountryCode \\\n",
    "                          GROUP BY ....name\",\n",
    "                         connection)\n",
    "# print the first few rows\n",
    "data.head()"
   ]
  },
  {
   "cell_type": "markdown",
   "metadata": {},
   "source": [
    "Create scatter plots of (1) numLangOff versus numLangUnoff, (2) numLangOff versus numLanguages , and (3) numLangUnoff versus numLanguages. In addition, compute the correlation matrix of data using DataFrame's $\\texttt{corr()}$ method."
   ]
  },
  {
   "cell_type": "code",
   "execution_count": null,
   "metadata": {},
   "outputs": [],
   "source": [
    "# create scatter plot of numLangOff versus numLangUnoff\n",
    "data.plot.scatter(x='...',y='...')\n",
    "# create scatter plot of numLangOff versus numLanguages\n",
    "data.plot.scatter(x='...',y='...')\n",
    "# create scatter plot of numLangUnoff versus numLanguages\n",
    "data.plot.scatter(x='...',y='...')\n",
    "# compute the correlation matrix of the numbers of languages\n",
    "data....()"
   ]
  },
  {
   "cell_type": "markdown",
   "metadata": {},
   "source": [
    "What do you conclude? Which variables are most strongly correlated? What's the interpretation of this strong correlation? And what would the *R*<sup>2</sup> be if you would regress numLanguages on numLangOff and numLangUnoff jointly?"
   ]
  },
  {
   "cell_type": "markdown",
   "metadata": {},
   "source": [
    "#### Conclusion:\n",
    "*Your conclusions go here.*"
   ]
  }
 ],
 "metadata": {
  "colab": {
   "collapsed_sections": [],
   "name": "Yelp-assignment.ipynb",
   "provenance": []
  },
  "kernelspec": {
   "display_name": "Python 3",
   "language": "python",
   "name": "python3"
  },
  "language_info": {
   "codemirror_mode": {
    "name": "ipython",
    "version": 3
   },
   "file_extension": ".py",
   "mimetype": "text/x-python",
   "name": "python",
   "nbconvert_exporter": "python",
   "pygments_lexer": "ipython3",
   "version": "3.8.5"
  }
 },
 "nbformat": 4,
 "nbformat_minor": 4
}
